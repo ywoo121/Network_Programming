{
 "cells": [
  {
   "cell_type": "code",
   "execution_count": 1,
   "id": "48ce99de",
   "metadata": {},
   "outputs": [
    {
     "data": {
      "text/plain": [
       "53"
      ]
     },
     "execution_count": 1,
     "metadata": {},
     "output_type": "execute_result"
    }
   ],
   "source": [
    "import socket\n",
    "socket.getservbyname('domain')\n",
    "#DNS port num : 53 쓰고 있다는 거 알려줌. "
   ]
  },
  {
   "cell_type": "code",
   "execution_count": 2,
   "id": "eb61e4ba",
   "metadata": {
    "scrolled": true
   },
   "outputs": [
    {
     "name": "stdout",
     "output_type": "stream",
     "text": [
      "The service echo uses port number 7\n",
      "The service ftp uses port number 21\n",
      "The service ssh uses port number 22\n",
      "The service telnet uses port number 23\n",
      "The service smtp uses port number 25\n"
     ]
    },
    {
     "ename": "OSError",
     "evalue": "service/proto not found",
     "output_type": "error",
     "traceback": [
      "\u001b[0;31m---------------------------------------------------------------------------\u001b[0m",
      "\u001b[0;31mOSError\u001b[0m                                   Traceback (most recent call last)",
      "\u001b[0;32m/var/folders/h6/m4wtqjkn6813b63bvcdcn18m0000gn/T/ipykernel_1231/4055661341.py\u001b[0m in \u001b[0;36m<module>\u001b[0;34m\u001b[0m\n\u001b[1;32m     12\u001b[0m \u001b[0munderlyingProtocol\u001b[0m \u001b[0;34m=\u001b[0m \u001b[0;34m\"tcp\"\u001b[0m\u001b[0;34m\u001b[0m\u001b[0;34m\u001b[0m\u001b[0m\n\u001b[1;32m     13\u001b[0m \u001b[0;32mfor\u001b[0m \u001b[0mservice\u001b[0m \u001b[0;32min\u001b[0m \u001b[0mserviceList\u001b[0m\u001b[0;34m:\u001b[0m\u001b[0;34m\u001b[0m\u001b[0;34m\u001b[0m\u001b[0m\n\u001b[0;32m---> 14\u001b[0;31m     \u001b[0mportNum\u001b[0m \u001b[0;34m=\u001b[0m \u001b[0msocket\u001b[0m\u001b[0;34m.\u001b[0m\u001b[0mgetservbyname\u001b[0m\u001b[0;34m(\u001b[0m\u001b[0mservice\u001b[0m\u001b[0;34m,\u001b[0m \u001b[0munderlyingProtocol\u001b[0m\u001b[0;34m)\u001b[0m\u001b[0;34m\u001b[0m\u001b[0;34m\u001b[0m\u001b[0m\n\u001b[0m\u001b[1;32m     15\u001b[0m     \u001b[0mprint\u001b[0m\u001b[0;34m(\u001b[0m\u001b[0;34m\"The service {} uses port number {}\"\u001b[0m\u001b[0;34m.\u001b[0m\u001b[0mformat\u001b[0m\u001b[0;34m(\u001b[0m\u001b[0mservice\u001b[0m\u001b[0;34m,\u001b[0m \u001b[0mportNum\u001b[0m\u001b[0;34m)\u001b[0m\u001b[0;34m)\u001b[0m\u001b[0;34m\u001b[0m\u001b[0;34m\u001b[0m\u001b[0m\n",
      "\u001b[0;31mOSError\u001b[0m: service/proto not found"
     ]
    }
   ],
   "source": [
    "import socket\n",
    "serviceList = [\"echo\",\n",
    "              \"ftp\",\n",
    "              \"ssh\",\n",
    "              \"telnet\",\n",
    "              \"smtp\",\n",
    "              \"doamin\",\n",
    "              \"http\",\n",
    "              \"kerberos\",\n",
    "              \"bgp\",\n",
    "              \"https\"]\n",
    "underlyingProtocol = \"tcp\"\n",
    "for service in serviceList:\n",
    "    portNum = socket.getservbyname(service, underlyingProtocol)\n",
    "    print(\"The service {} uses port number {}\".format(service, portNum))"
   ]
  },
  {
   "cell_type": "code",
   "execution_count": null,
   "id": "7da8ba78",
   "metadata": {},
   "outputs": [],
   "source": []
  }
 ],
 "metadata": {
  "kernelspec": {
   "display_name": "Python 3 (ipykernel)",
   "language": "python",
   "name": "python3"
  },
  "language_info": {
   "codemirror_mode": {
    "name": "ipython",
    "version": 3
   },
   "file_extension": ".py",
   "mimetype": "text/x-python",
   "name": "python",
   "nbconvert_exporter": "python",
   "pygments_lexer": "ipython3",
   "version": "3.9.13"
  }
 },
 "nbformat": 4,
 "nbformat_minor": 5
}
