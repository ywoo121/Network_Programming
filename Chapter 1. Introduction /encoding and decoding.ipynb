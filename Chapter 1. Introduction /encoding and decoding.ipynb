{
 "cells": [
  {
   "cell_type": "code",
   "execution_count": 1,
   "id": "d2f6acff",
   "metadata": {},
   "outputs": [
    {
     "name": "stdout",
     "output_type": "stream",
     "text": [
      "'413 is in.'\n"
     ]
    }
   ],
   "source": [
    "if __name__ == '__main__':\n",
    "    input_bytes = b'\\xff\\xfe4\\x001\\x003\\x00 \\x00i\\x00s\\x00 \\x00i\\x00n\\x00.\\x00'\n",
    "    input_characters = input_bytes.decode('utf-16')\n",
    "    print(repr(input_characters))"
   ]
  },
  {
   "cell_type": "code",
   "execution_count": null,
   "id": "24dea00f",
   "metadata": {},
   "outputs": [],
   "source": []
  }
 ],
 "metadata": {
  "kernelspec": {
   "display_name": "Python 3 (ipykernel)",
   "language": "python",
   "name": "python3"
  },
  "language_info": {
   "codemirror_mode": {
    "name": "ipython",
    "version": 3
   },
   "file_extension": ".py",
   "mimetype": "text/x-python",
   "name": "python",
   "nbconvert_exporter": "python",
   "pygments_lexer": "ipython3",
   "version": "3.10.3"
  }
 },
 "nbformat": 4,
 "nbformat_minor": 5
}
