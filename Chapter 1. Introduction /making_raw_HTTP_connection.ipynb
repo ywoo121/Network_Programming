{
 "cells": [
  {
   "cell_type": "code",
   "execution_count": 1,
   "id": "daf16696",
   "metadata": {},
   "outputs": [],
   "source": [
    "import http.client\n",
    "import json\n",
    "from urllib.parse import quote_plus"
   ]
  },
  {
   "cell_type": "code",
   "execution_count": 2,
   "id": "3999bde9",
   "metadata": {},
   "outputs": [],
   "source": [
    "base = '/search'\n",
    "\n",
    "def geocode(address):\n",
    "    path = '{}?q={}&format=json'.format(base, quote_plus(address))\n",
    "    user_agent='yeon'\n",
    "    headers = {'User-Agent': user_agent}\n",
    "    connection = http.client.HTTPSConnection('nominatim.openstreetmap.org')\n",
    "    connection.request('GET', path, None, headers)\n",
    "    print(path, headers)\n",
    "    rawreply = connection.getresponse().read()\n",
    "    reply = json.loads(rawreply.decode('utf-8'))\n",
    "    print(reply[0]['lat'], reply[0]['lon'])"
   ]
  },
  {
   "cell_type": "code",
   "execution_count": 4,
   "id": "762ef8d3",
   "metadata": {},
   "outputs": [
    {
     "name": "stdout",
     "output_type": "stream",
     "text": [
      "/search?q=207+N.+Defiance+St%2C+Archbold%2C+OH&format=json {'User-Agent': 'yeon'}\n",
      "41.52292049072034 -84.30645468470402\n"
     ]
    }
   ],
   "source": [
    "if __name__== '__main__':\n",
    "    geocode('207 N. Defiance St, Archbold, OH')"
   ]
  },
  {
   "cell_type": "code",
   "execution_count": null,
   "id": "6ccc1842",
   "metadata": {},
   "outputs": [],
   "source": []
  }
 ],
 "metadata": {
  "kernelspec": {
   "display_name": "Python 3 (ipykernel)",
   "language": "python",
   "name": "python3"
  },
  "language_info": {
   "codemirror_mode": {
    "name": "ipython",
    "version": 3
   },
   "file_extension": ".py",
   "mimetype": "text/x-python",
   "name": "python",
   "nbconvert_exporter": "python",
   "pygments_lexer": "ipython3",
   "version": "3.10.3"
  }
 },
 "nbformat": 4,
 "nbformat_minor": 5
}
