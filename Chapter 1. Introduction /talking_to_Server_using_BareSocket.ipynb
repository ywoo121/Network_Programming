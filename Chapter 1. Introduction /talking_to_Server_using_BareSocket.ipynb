{
 "cells": [
  {
   "cell_type": "code",
   "execution_count": 1,
   "id": "96d18635",
   "metadata": {},
   "outputs": [],
   "source": [
    "import socket\n",
    "import ssl\n",
    "from urllib.parse import quote_plus"
   ]
  },
  {
   "cell_type": "code",
   "execution_count": 2,
   "id": "3e8cb393",
   "metadata": {},
   "outputs": [],
   "source": [
    "request_text = \"\"\"\\\n",
    "GET /search?q={}&format=json HTTP/192.168\\r\\n\\\n",
    "Host: nominatim.openstreetmap.org\\r\\n\\\n",
    "User-Agent: yeon\\r\\n\\\n",
    "Connection: close\\r\\n\\\n",
    "\\r\\n\\\n",
    "\"\"\""
   ]
  },
  {
   "cell_type": "code",
   "execution_count": 3,
   "id": "030eda70",
   "metadata": {},
   "outputs": [],
   "source": [
    "def geocode(address):\n",
    "    unencrypted_sock = socket.socket()\n",
    "    unencrypted_sock.connect(('nominatim.openstrsstmap.org', 443))\n",
    "    sock = ssl.wrap_socket(unencrypted_sock)\n",
    "    request = request_text.format(quote_plus(address))\n",
    "    print(request)\n",
    "    sock.sendall(request.encode('ascii'))\n",
    "    raw_reply = b''\n",
    "    while True:\n",
    "        more = sock.recv(4096)\n",
    "        if not more :\n",
    "            break\n",
    "        raw_reply += more\n",
    "    print(raw_reply.decode('utf-8'))\n",
    "    print(raw_reply)"
   ]
  },
  {
   "cell_type": "code",
   "execution_count": 4,
   "id": "70f84e32",
   "metadata": {},
   "outputs": [
    {
     "ename": "gaierror",
     "evalue": "[Errno 8] nodename nor servname provided, or not known",
     "output_type": "error",
     "traceback": [
      "\u001b[0;31m---------------------------------------------------------------------------\u001b[0m",
      "\u001b[0;31mgaierror\u001b[0m                                  Traceback (most recent call last)",
      "Cell \u001b[0;32mIn[4], line 2\u001b[0m\n\u001b[1;32m      1\u001b[0m \u001b[38;5;28;01mif\u001b[39;00m \u001b[38;5;18m__name__\u001b[39m \u001b[38;5;241m==\u001b[39m \u001b[38;5;124m'\u001b[39m\u001b[38;5;124m__main__\u001b[39m\u001b[38;5;124m'\u001b[39m :\n\u001b[0;32m----> 2\u001b[0m     \u001b[43mgeocode\u001b[49m\u001b[43m(\u001b[49m\u001b[38;5;124;43m'\u001b[39;49m\u001b[38;5;124;43mSoongsil University\u001b[39;49m\u001b[38;5;124;43m'\u001b[39;49m\u001b[43m)\u001b[49m\n",
      "Cell \u001b[0;32mIn[3], line 3\u001b[0m, in \u001b[0;36mgeocode\u001b[0;34m(address)\u001b[0m\n\u001b[1;32m      1\u001b[0m \u001b[38;5;28;01mdef\u001b[39;00m \u001b[38;5;21mgeocode\u001b[39m(address):\n\u001b[1;32m      2\u001b[0m     unencrypted_sock \u001b[38;5;241m=\u001b[39m socket\u001b[38;5;241m.\u001b[39msocket()\n\u001b[0;32m----> 3\u001b[0m     \u001b[43munencrypted_sock\u001b[49m\u001b[38;5;241;43m.\u001b[39;49m\u001b[43mconnect\u001b[49m\u001b[43m(\u001b[49m\u001b[43m(\u001b[49m\u001b[38;5;124;43m'\u001b[39;49m\u001b[38;5;124;43mnominatim.openstrsstmap.org\u001b[39;49m\u001b[38;5;124;43m'\u001b[39;49m\u001b[43m,\u001b[49m\u001b[43m \u001b[49m\u001b[38;5;241;43m443\u001b[39;49m\u001b[43m)\u001b[49m\u001b[43m)\u001b[49m\n\u001b[1;32m      4\u001b[0m     sock \u001b[38;5;241m=\u001b[39m ssl\u001b[38;5;241m.\u001b[39mwrap_socket(unencrypted_sock)\n\u001b[1;32m      5\u001b[0m     request \u001b[38;5;241m=\u001b[39m request_text\u001b[38;5;241m.\u001b[39mformat(quote_plus(address))\n",
      "\u001b[0;31mgaierror\u001b[0m: [Errno 8] nodename nor servname provided, or not known"
     ]
    }
   ],
   "source": [
    "if __name__ == '__main__' :\n",
    "    geocode('Soongsil University')"
   ]
  },
  {
   "cell_type": "code",
   "execution_count": null,
   "id": "937f83a4",
   "metadata": {},
   "outputs": [],
   "source": []
  }
 ],
 "metadata": {
  "kernelspec": {
   "display_name": "Python 3 (ipykernel)",
   "language": "python",
   "name": "python3"
  },
  "language_info": {
   "codemirror_mode": {
    "name": "ipython",
    "version": 3
   },
   "file_extension": ".py",
   "mimetype": "text/x-python",
   "name": "python",
   "nbconvert_exporter": "python",
   "pygments_lexer": "ipython3",
   "version": "3.9.13"
  }
 },
 "nbformat": 4,
 "nbformat_minor": 5
}
